{
 "cells": [
  {
   "cell_type": "code",
   "execution_count": null,
   "id": "b7741f09",
   "metadata": {},
   "outputs": [],
   "source": [
    "import yt\n",
    "\n",
    "ds = yt.load(\"fm_mad/100Ms/torus.mhd_w_bcc.00050.athdf\")\n",
    "ds.print_stats()\n",
    "\n",
    "slc = yt.SlicePlot(ds,  \"x\", ('athena_pp','velz'))\n",
    "slc.set_cmap(('athena_pp','velz'), 'RdBu')\n",
    "slc.show()\n"
   ]
  },
  {
   "cell_type": "code",
   "execution_count": null,
   "id": "af38e218",
   "metadata": {},
   "outputs": [],
   "source": [
    "import yt\n",
    "\n",
    "ds = yt.load(\"fm_mad/100Ms/torus.mhd_w_bcc.00100.athdf\")\n",
    "ds.print_stats()\n",
    "\n",
    "slc = yt.SlicePlot(ds,  \"x\", ('gas','density_gradient_magnitude'))\n",
    "slc.show()\n",
    "    "
   ]
  },
  {
   "cell_type": "code",
   "execution_count": null,
   "id": "3e26a267",
   "metadata": {},
   "outputs": [],
   "source": [
    "ds.derived_field_list\n"
   ]
  },
  {
   "cell_type": "markdown",
   "id": "c5092dfc",
   "metadata": {},
   "source": [
    "# SCALE HEIGHT"
   ]
  },
  {
   "cell_type": "code",
   "execution_count": null,
   "id": "5d99bee5",
   "metadata": {},
   "outputs": [],
   "source": [
    "import yt\n",
    "import numpy as np\n",
    "from yt import derived_field\n",
    "import yt\n",
    "from PIL import Image\n",
    "\n",
    "# Load your AthenaK dataset (replace filename as appropriate)\n",
    "ds = yt.load(\"fm_mad/100Ms/torus.mhd_w_bcc.00100.athdf\")\n",
    "\n",
    "# Check if gradient fields are available\n",
    "print(ds.derived_field_list)  # you should see ('gas', 'density_gradient_x'), etc.\n",
    "\n",
    "# Define the derived field\n",
    "@derived_field(name=(\"gas\", \"density_scale_height\"),\n",
    "                  units=\"code_length\",  # or \"code_length\" if in code units\n",
    "                  sampling_type=\"cell\")\n",
    "def _density_scale_height(field, data):\n",
    "    rho = data[\"athena_pp\", \"dens\"]\n",
    "    grad = data[\"gas\", \"density_gradient_z\"]\n",
    "    H = rho / grad\n",
    "    return H\n",
    "\n",
    "# Now you can access this field just like any other\n",
    "ad = ds.all_data()\n"
   ]
  },
  {
   "cell_type": "code",
   "execution_count": null,
   "id": "608c2234",
   "metadata": {},
   "outputs": [],
   "source": [
    "# Slice plot in the midplane\n",
    "slc = yt.SlicePlot(ds, \"x\", (\"gas\", \"density_scale_height\"))\n",
    "slc.set_log((\"gas\", \"density_scale_height\"), False)\n",
    "slc.set_cmap((\"gas\", \"density_scale_height\"), \"viridis\")\n",
    "slc.annotate_title(\"Density Scale Height (H = ρ / |∇ρ|)\")\n",
    "slc.save(\"scale_height_slice.png\")\n",
    "slc.show()\n"
   ]
  },
  {
   "cell_type": "code",
   "execution_count": null,
   "id": "0a568235",
   "metadata": {},
   "outputs": [],
   "source": [
    "# Create a 1D radial profile\n",
    "prof = yt.create_profile(\n",
    "    ad,\n",
    "    \"cylindrical_radius\",\n",
    "    (\"gas\", \"density_scale_height\"),\n",
    "    weight_field=(\"gas\", \"cell_volume\")\n",
    ")\n",
    "\n",
    "import matplotlib.pyplot as plt\n",
    "\n",
    "plt.figure(figsize=(7,5))\n",
    "plt.plot(prof.x.value, prof[\"gas\", \"density_scale_height\"].value)\n",
    "plt.xscale(\"log\")\n",
    "plt.yscale(\"log\")\n",
    "plt.xlabel(\"Radius [cm]\")\n",
    "plt.ylabel(\"Scale Height [cm]\")\n",
    "plt.title(\"Radial Density Scale Height Profile\")\n",
    "plt.grid(True, which=\"both\")\n",
    "plt.show()\n"
   ]
  },
  {
   "cell_type": "code",
   "execution_count": null,
   "id": "674da3ad",
   "metadata": {},
   "outputs": [],
   "source": [
    "from yt import derived_field\n",
    "import yt\n",
    "from PIL import Image\n",
    "@derived_field(name=\"mom_x\",units=\"code_mass/code_length**3\", sampling_type=\"cell\", display_name=\"Momentum X\",force_override=True)\n",
    "def _mom_x(field, data):\n",
    "    return data[\"athena_pp\", \"dens\"] * data[\"athena_pp\", \"velx\"]    \n",
    "@derived_field(name=\"mom_y\",units=\"code_mass/code_length**3\", sampling_type=\"cell\", display_name=\"Momentum Y\",force_override=True)\n",
    "def _mom_y(field, data):\n",
    "    return data[\"athena_pp\", \"dens\"] * data[\"athena_pp\", \"vely\"]\n",
    "@derived_field(name=\"mom_z\", units=\"code_mass/code_length**3\", sampling_type=\"cell\", display_name=\"Momentum Z\",force_override=True)\n",
    "def _mom_z(field, data):\n",
    "    return data[\"athena_pp\", \"dens\"] * data[\"athena_pp\", \"velz\"]\n",
    "@derived_field(name=\"velocity_x\",units=\"\", sampling_type=\"cell\", display_name=\"velocity_x\",force_override=True)\n",
    "def _velocity_x(field, data):\n",
    "    return data[\"athena_pp\", \"velx\"]\n",
    "@derived_field(name=\"velocity_y\",units=\"\", sampling_type=\"cell\", display_name=\"velocity_y\",force_override=True)\n",
    "def _velocity_y(field, data):\n",
    "    return data[\"athena_pp\", \"vely\"]\n",
    "@derived_field(name=\"velocity_z\",units=\"\", sampling_type=\"cell\", display_name=\"velocity_z\",force_override=True)\n",
    "def _velocity_z(field, data):\n",
    "    return data[\"athena_pp\", \"velz\"]\n",
    "@derived_field(name=\"dens\",units=\"code_mass/code_length**3\", sampling_type=\"cell\", display_name=\"dens\",force_override=True)\n",
    "def _dens(field, data):\n",
    "    return data[\"athena_pp\", \"dens\"]\n",
    "\n",
    "# Define the derived field\n",
    "\n",
    "\n",
    "import matplotlib.pyplot as plt\n",
    "\n",
    "times = [0, 50, 75, 100]\n",
    "images = []\n",
    "for t in times:\n",
    "    ds = yt.load(f\"fm_mad/100Ms/torus.mhd_w_bcc.00{t:03d}.athdf\")\n",
    "    # make a slice plot of density using the disk as the data_source\n",
    "\n",
    "    p = yt.SlicePlot(ds, \"x\", ('gas', 'dens'))\n",
    "    p.zoom(32)\n",
    "    try:\n",
    "        p.annotate_velocity()\n",
    "        p.annotate_contours(('athena_pp', 'bcc'), ncont=10, clim=(0.1, 10), colors='white')\n",
    "    except Exception:\n",
    "        # annotate_velocity can fail if velocities aren't available/compatible for this data_source\n",
    "        pass\n",
    "    # save the plot and load the saved image for composing in a matplotlib figure\n",
    "    saved = p.save()  # returns a list of saved file paths\n",
    "    images.append(Image.open(saved[0]))\n",
    "\n",
    "# plot all four saved images in a 2x2 layout\n",
    "fig, axes = plt.subplots(2, 2, figsize=(12, 10))\n",
    "axes = axes.flatten()\n",
    "for ax, img, t in zip(axes, images, times):\n",
    "    ax.imshow(img)\n",
    "    ax.set_title(f\"time = {t} code length\")\n",
    "    ax.axis(\"off\")\n",
    "\n",
    "plt.tight_layout()\n",
    "plt.show()\n",
    "\n"
   ]
  },
  {
   "cell_type": "markdown",
   "id": "db28db44",
   "metadata": {},
   "source": [
    "# Magnetic Field"
   ]
  },
  {
   "cell_type": "code",
   "execution_count": null,
   "id": "f0462c08",
   "metadata": {},
   "outputs": [],
   "source": [
    "from yt import derived_field\n",
    "import yt\n",
    "from PIL import Image\n",
    "@derived_field(name=\"magnetic_field_x\",units=\"\", sampling_type=\"cell\", display_name=\"Magnetic X\",force_override=True)\n",
    "def _mag_x(field, data):\n",
    "    return data[\"athena_pp\", \"bcc1\"]    \n",
    "@derived_field(name=\"magnetic_field_y\",units=\"\", sampling_type=\"cell\", display_name=\"Magnetic Y\",force_override=True)\n",
    "def _mag_y(field, data):\n",
    "    return data[\"athena_pp\", \"bcc2\"]\n",
    "@derived_field(name=\"magnetic_field_z\", units=\"\", sampling_type=\"cell\", display_name=\"Magnetic Z\",force_override=True)\n",
    "def _mag_z(field, data):\n",
    "    return data[\"athena_pp\", \"bcc3\"]\n",
    "@derived_field(name=\"magnetic_field_total\", units=\"\", sampling_type=\"cell\", display_name=\"Magnetic Field Magnitude\",force_override=True)\n",
    "def _mag_total(field, data):\n",
    "    return np.sqrt(data[\"athena_pp\", \"bcc3\"]**2 + data[\"athena_pp\", \"bcc1\"]**2 + data[\"athena_pp\", \"bcc2\"]**2)\n",
    "\n",
    "\n",
    "import matplotlib.pyplot as plt\n",
    "import numpy as np\n",
    "\n",
    "times = [0, 50, 100]\n",
    "images = []\n",
    "for t in times:\n",
    "    ds = yt.load(f\"fm_mad/100Ms/torus.mhd_w_bcc.00{t:03d}.athdf\")\n",
    "    # make a slice plot of density using the disk as the data_source\n",
    "    p = yt.SlicePlot(ds, \"x\", ('athena_pp', 'dens'))\n",
    "    p.set_font_size(27)\n",
    "    # p.set_cmap('dens', 'RdBu')\n",
    "    # p.zoom(8)\n",
    "    try:\n",
    "        # p.annotate_magnetic_field()\n",
    "        p.annotate_streamlines('magnetic_field_y', 'magnetic_field_z', density=1, linewidth=1, color='black')\n",
    "        if t!=0:\n",
    "            p.annotate_velocity()\n",
    "        # p.annotate_contour(('athena_pp', 'magnetic_field_total'), ncontours=10, clim=(1e-5, 1e-2)\n",
    "    except Exception:\n",
    "        pass\n",
    "    # save the plot and load the saved image for composing in a matplotlib figure\n",
    "    saved = p.save()  # returns a list of saved file paths\n",
    "    images.append(Image.open(saved[0]))\n",
    "\n",
    "# plot all four saved images in a 2x2 layout\n",
    "fig, axes = plt.subplots(1, 3, figsize=(15, 10))\n",
    "for ax, img, t in zip(axes, images, times):\n",
    "    ax.imshow(img)\n",
    "    ax.axis(\"off\")\n",
    "\n",
    "plt.tight_layout()\n",
    "plt.show()"
   ]
  },
  {
   "cell_type": "code",
   "execution_count": null,
   "id": "493e6c8a",
   "metadata": {},
   "outputs": [],
   "source": [
    "times = [0, 50, 75, 100]\n",
    "# for r in radii:\n",
    "#     ds = yt.load(f\"/home/yasho/athenak/visualisation/fm_mad/100Ms/torus.mhd_w_bcc.00{r:03d}.athdf\")\n",
    "#     prof=yt.ProfilePlot(ds, ('index','z'), ('athena_pp','velz'), weight_field=None, n_bins=100)\n",
    "#     prof.show()\n",
    "\n",
    "disk =ds.disk([0,0,0], [0,0,1], radius=(10,\"code_length\"),height= (1024,\"code_length\"))\n",
    "\n",
    "for t in times:\n",
    "    ds = yt.load(f\"fm_mad/100Ms/torus.mhd_w_bcc.00{t:03d}.athdf\")\n",
    "    disk =ds.disk([0,0,0], [0,0,1], radius=(10,\"code_length\"),height= (1024,\"code_length\"))\n",
    "    prof=yt.ProfilePlot(disk, ('index','z'), ('athena_pp','velz'), weight_field=('athena_pp','dens'), n_bins=20)\n",
    "    prof.show()"
   ]
  },
  {
   "cell_type": "code",
   "execution_count": null,
   "id": "2affd833",
   "metadata": {},
   "outputs": [],
   "source": [
    "ad= ds.all_data()\n",
    "prof = yt.create_profile(ad, ('index','cylindrical_radius'), ('athena_pp','dens'), weight_field=('athena_pp','cell_volume'), n_bins=100,logs={'cylindrical_radius': False,\"dens\":False})\n",
    "prof.x_axis_unit = 'code_length'\n",
    "prof.y_axis_unit = 'code_mass/code_length**2/code_time'\n",
    "prof.plot()"
   ]
  },
  {
   "cell_type": "markdown",
   "id": "af56be1f",
   "metadata": {},
   "source": [
    "# FLUX CALCULATIONS\n"
   ]
  },
  {
   "cell_type": "code",
   "execution_count": null,
   "id": "43883a06",
   "metadata": {},
   "outputs": [],
   "source": [
    "surf=ds.surface(ds.all_data(), ('index','cylindrical_radius'), 100)\n",
    "surf.calculate_flux(('athena_pp','velx'), ('athena_pp','vely'), ('athena_pp','velz'),('athena_pp','dens'))"
   ]
  },
  {
   "cell_type": "code",
   "execution_count": null,
   "id": "2cf16745",
   "metadata": {},
   "outputs": [],
   "source": [
    "surf=ds.surface(ds.all_data(), ('index','cylindrical_radius'), 101)\n",
    "surf.calculate_flux(('athena_pp','velx'), ('athena_pp','vely'), ('athena_pp','velz'),('athena_pp','dens'))"
   ]
  },
  {
   "cell_type": "code",
   "execution_count": null,
   "id": "925ffe0d",
   "metadata": {},
   "outputs": [],
   "source": [
    "#find the flux across the surface for different radii and plot it against radius\n",
    "radii = range(10,200,10)\n",
    "fluxes = []\n",
    "for r in radii:\n",
    "    surf=ds.surface(ds.all_data(), ('index','cylindrical_radius'), r)\n",
    "    flux = surf.calculate_flux(('athena_pp','velx'), ('athena_pp','vely'), ('athena_pp','velz'),('athena_pp','dens'))\n",
    "    fluxes.append(flux)\n",
    "import matplotlib.pyplot as plt\n",
    "plt.plot(radii, fluxes)\n",
    "plt.xlabel(\"Radius (code_length)\")\n",
    "plt.ylabel(\"Mass Flux (code_mass/code_time)\")\n"
   ]
  },
  {
   "cell_type": "code",
   "execution_count": null,
   "id": "9ba75101",
   "metadata": {},
   "outputs": [],
   "source": [
    "#find the flux across the surface for different radii and plot it against radius\n",
    "radii = range(200,1000,10)\n",
    "fluxes = []\n",
    "for r in radii:\n",
    "    surf=ds.surface(ds.all_data(), ('index','cylindrical_radius'), r)\n",
    "    flux = surf.calculate_flux(('athena_pp','velx'), ('athena_pp','vely'), ('athena_pp','velz'),('athena_pp','dens'))\n",
    "    fluxes.append(flux)\n",
    "import matplotlib.pyplot as plt\n",
    "plt.plot(radii, fluxes)\n",
    "plt.xlabel(\"Radius (code_length)\")\n",
    "plt.ylabel(\"Mass Flux (code_mass/code_time)\")"
   ]
  },
  {
   "cell_type": "code",
   "execution_count": null,
   "id": "26d7144e",
   "metadata": {},
   "outputs": [],
   "source": [
    "disk =ds.disk([0,0,0], [0,0,1], radius=(20,\"code_length\"),height= (1024,\"code_length\"), fields=[('athena_pp','dens'), ('athena_pp','velx'), ('athena_pp','vely'), ('athena_pp','velz')])\n",
    "surface = ds.surface(disk, ('index','cylindrical_z'), 10)\n",
    "print(surface)\n",
    "flux=surface.calculate_flux(('athena_pp','velx'), ('athena_pp','vely'), ('athena_pp','velz'),('athena_pp','dens'))\n",
    "\n"
   ]
  },
  {
   "cell_type": "code",
   "execution_count": null,
   "id": "81f834cd",
   "metadata": {},
   "outputs": [],
   "source": [
    "print(flux)"
   ]
  },
  {
   "cell_type": "code",
   "execution_count": null,
   "id": "56edacd5",
   "metadata": {},
   "outputs": [],
   "source": [
    "disk =ds.disk([0,0,0], [0,0,1], radius=(10,\"code_length\"),height= (1024,\"code_length\"))\n",
    "for height in range(50,1000,50):\n",
    "    surface = ds.surface(disk, ('index','z'), height)\n",
    "    flux = surface.calculate_flux(('athena_pp','velx'), ('athena_pp','vely'), ('athena_pp','velz'),('athena_pp','dens'))\n",
    "    print(f\"Height: {height} Flux: {flux}\")"
   ]
  },
  {
   "cell_type": "code",
   "execution_count": null,
   "id": "c0086c0a",
   "metadata": {},
   "outputs": [],
   "source": [
    "disk =ds.disk([0,0,0], [0,0,1], radius=(10,\"code_length\"),height= (1024,\"code_length\"))\n",
    "prof=disk.profile(('index','z'),('athena_pp','velz'), weight_field=None, n_bins=100,logs={'z': True,\"velz\":True})\n",
    "prof.plot()"
   ]
  },
  {
   "cell_type": "code",
   "execution_count": null,
   "id": "423078e7",
   "metadata": {},
   "outputs": [],
   "source": [
    "plot=yt.ProfilePlot(disk, ('index','z'), ('athena_pp','dens'), weight_field=None, n_bins=100)\n",
    "plot.show()"
   ]
  },
  {
   "cell_type": "code",
   "execution_count": null,
   "id": "36a0b77c",
   "metadata": {},
   "outputs": [],
   "source": [
    "plot=yt.ProfilePlot(disk, ('index','z'), ('athena_pp','dens'), weight_field=None, n_bins=100)\n",
    "plot.show()"
   ]
  },
  {
   "cell_type": "code",
   "execution_count": null,
   "id": "e1ec3db6",
   "metadata": {},
   "outputs": [],
   "source": [
    "prof=ds.all_data().profile(('index','z'),('athena_pp','dens'), weight_field=None, n_bins=100,logs={'cylindrical_radius': False,\"dens\":False})\n",
    "prof.plot()"
   ]
  },
  {
   "cell_type": "code",
   "execution_count": null,
   "id": "f11f70d3",
   "metadata": {},
   "outputs": [],
   "source": [
    "import glob\n",
    "import yt\n",
    "\n",
    "#plot the evolution of the density profile with time over all the slices in the directory\n",
    "import matplotlib.pyplot as plt\n",
    "\n",
    "# Get all files matching the pattern in the directory\n",
    "files = sorted(glob.glob(\"/home/yasho/athenak/bin/torus.mhd_w_bcc.*.athdf\"))\n",
    "\n",
    "plt.figure(figsize=(10,6))\n",
    "for f in files:\n",
    "    ds = yt.load(f)\n",
    "    disk=  ds.disk([0,0,0], [0,0,1], radius= (10,\"code_length\"), height=(1000,\"code_length\"))\n",
    "    prof = disk.profile(('index','z'),('athena_pp','dens'), weight_field=None, n_bins=100, logs={'z': False, \"dens\": True})\n",
    "    plt.plot(prof.x, prof['athena_pp','dens'], label=f.split('.')[-2])\n",
    "\n",
    "plt.xlabel(\"z (code_length)\")\n",
    "plt.ylabel(\"Density (code_mass/code_length**3)\")\n",
    "plt.legend()\n",
    "plt.title(\"Evolution of Density Profile Over Time\")\n",
    "plt.yscale('log')\n",
    "plt.tight_layout\n",
    "plt.show()\n"
   ]
  },
  {
   "cell_type": "code",
   "execution_count": null,
   "id": "4b8296cc",
   "metadata": {},
   "outputs": [],
   "source": [
    "import glob\n",
    "import yt\n",
    "\n",
    "#plot the evolution of the density profile with time over all the slices in the directory\n",
    "import matplotlib.pyplot as plt\n",
    "\n",
    "# Get all files matching the pattern in the directory\n",
    "files = sorted(glob.glob(\"/home/yasho/athenak/bin/torus.mhd_w_bcc.*.athdf\"))\n",
    "\n",
    "plt.figure(figsize=(10,6))\n",
    "for f in files:\n",
    "    ds = yt.load(f)\n",
    "    disk=  ds.disk([0,0,0], [0,0,1], radius= (1000,\"code_length\"), height=(200,\"code_length\"))\n",
    "    prof = disk.profile(('index','cylindrical_radius'),('athena_pp','dens'), weight_field=None, n_bins=100, logs={'z': False, \"dens\": True})\n",
    "    plt.plot(prof.x, prof['athena_pp','dens'], label=f.split('.')[-2])\n",
    "\n",
    "plt.xlabel(\"z (code_length)\")\n",
    "plt.ylabel(\"Density (code_mass/code_length**3)\")\n",
    "plt.legend()\n",
    "plt.title(\"Evolution of Density Profile Over Time\")\n",
    "plt.yscale('log')\n",
    "plt.tight_layout"
   ]
  }
 ],
 "metadata": {
  "kernelspec": {
   "display_name": "athenak",
   "language": "python",
   "name": "python3"
  },
  "language_info": {
   "codemirror_mode": {
    "name": "ipython",
    "version": 3
   },
   "file_extension": ".py",
   "mimetype": "text/x-python",
   "name": "python",
   "nbconvert_exporter": "python",
   "pygments_lexer": "ipython3",
   "version": "3.10.12"
  }
 },
 "nbformat": 4,
 "nbformat_minor": 5
}
